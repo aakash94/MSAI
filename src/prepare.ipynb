{
 "cells": [
  {
   "cell_type": "code",
   "execution_count": 7,
   "metadata": {},
   "outputs": [],
   "source": [
    "\n",
    "import sys\n",
    "import os\n",
    "import time\n",
    "import numpy as np\n",
    "import pandas as pd\n",
    "import pickle\n",
    "import re\n",
    "from collections import defaultdict\n",
    "import random\n",
    "import random\n",
    "import csv\n",
    "import sqlite3 as lite\n",
    "import unicodedata\n",
    "from sklearn.model_selection import train_test_split"
   ]
  },
  {
   "cell_type": "code",
   "execution_count": 8,
   "metadata": {},
   "outputs": [],
   "source": [
    "start_time = time.time()\n",
    "\n",
    "chunk_size = 1000000\n",
    "total_rows = 5241880\n",
    "tsv_path = \"../res/data.tsv\"\n",
    "op_path = \"../res/trimmed_data.tsv\"\n",
    "\n",
    "header_names = [\"q_id\",\"question\",\"answer\",\"label\",\"a_id\"]\n",
    "trimmed_header_names = [\"question\",\"answer\",\"label\"]\n",
    "\n"
   ]
  },
  {
   "cell_type": "code",
   "execution_count": 5,
   "metadata": {},
   "outputs": [
    {
     "name": "stdout",
     "output_type": "stream",
     "text": [
      "1000000 \t Done\n",
      "1000000  Done\t Time taken :  210.5010597705841 \t ETA :  892.9202354196453\n"
     ]
    },
    {
     "name": "stderr",
     "output_type": "stream",
     "text": [
      "D:\\WindowsSoftware\\Anaconda\\envs\\acme\\lib\\site-packages\\ipykernel_launcher.py:27: DeprecationWarning: time.clock has been deprecated in Python 3.3 and will be removed from Python 3.8: use time.perf_counter or time.process_time instead\n"
     ]
    },
    {
     "name": "stdout",
     "output_type": "stream",
     "text": [
      "2000000 \t Done\n",
      "2000000  Done\t Time taken :  1554745163.773402 \t ETA :  5040297251.533716\n",
      "3000000 \t Done\n",
      "3000000  Done\t Time taken :  1554745150.4123905 \t ETA :  3485552057.80653\n",
      "4000000 \t Done\n",
      "4000000  Done\t Time taken :  1554745140.6595294 \t ETA :  1930806895.2822566\n",
      "5000000 \t Done\n",
      "5000000  Done\t Time taken :  1554745174.2650898 \t ETA :  376061762.75123996\n",
      "5241880 \t Done\n",
      "5241880  Done\t Time taken :  1554744990.2213619 \t ETA :  0.0\n",
      "--- 1153.717674255371 seconds ---\n"
     ]
    }
   ],
   "source": [
    "encoding = 'utf-8'\n",
    "start_time = time.time()\n",
    "curr_time = time.time()\n",
    "\n",
    "file_read = 0\n",
    "\n",
    "\n",
    "for chunk in pd.read_csv(tsv_path,sep='\\t',chunksize=chunk_size, header=None, names=header_names, encoding=encoding):\n",
    "    file_read+=chunk.shape[0]\n",
    "    datalist = []        \n",
    "    del chunk['q_id']\n",
    "    del chunk['a_id']\n",
    "    \n",
    "    for chunklet in chunk.iterrows():     \n",
    "        chunklet = chunklet[1] # remove iteration from tupple\n",
    "        chunklet['question'] = unicodedata.normalize('NFD', chunklet['question']).encode('ascii', 'ignore').decode(encoding)\n",
    "        chunklet['answer'] = unicodedata.normalize('NFD', chunklet['answer']).encode('ascii', 'ignore').decode(encoding)\n",
    "        datalist.append(chunklet)\n",
    "\n",
    "    selected_chunk = pd.DataFrame(datalist, columns=trimmed_header_names)\n",
    "    with open(op_path, 'a') as f:\n",
    "        selected_chunk.to_csv(f, sep='\\t', encoding=encoding, index=False, header = False)\n",
    "        \n",
    "    print(file_read, \"\\t Done\")        \n",
    "    time_taken = time.time() - curr_time\n",
    "    print(file_read,\" Done\\t Time taken : \",(time_taken), \"\\t ETA : \", (((total_rows-file_read)/chunk_size)*time_taken))\n",
    "    curr_time = time.clock()\n",
    "print(\"--- %s seconds ---\" % (time.time() - start_time))"
   ]
  },
  {
   "cell_type": "code",
   "execution_count": null,
   "metadata": {},
   "outputs": [],
   "source": [
    "encoding = 'UTF-8'\n",
    "def clear_encoding(val):    \n",
    "    if isinstance(val,int):        \n",
    "        return val\n",
    "    else :\n",
    "        val = unicodedata.normalize('NFKD',val).encode('ascii', 'ignore').decode()\n",
    "    return val"
   ]
  },
  {
   "cell_type": "code",
   "execution_count": 9,
   "metadata": {},
   "outputs": [
    {
     "name": "stderr",
     "output_type": "stream",
     "text": [
      "D:\\WindowsSoftware\\Anaconda\\envs\\acme\\lib\\site-packages\\ipykernel_launcher.py:2: DeprecationWarning: time.clock has been deprecated in Python 3.3 and will be removed from Python 3.8: use time.perf_counter or time.process_time instead\n",
      "  \n",
      "D:\\WindowsSoftware\\Anaconda\\envs\\acme\\lib\\site-packages\\ipykernel_launcher.py:3: DeprecationWarning: time.clock has been deprecated in Python 3.3 and will be removed from Python 3.8: use time.perf_counter or time.process_time instead\n",
      "  This is separate from the ipykernel package so we can avoid doing imports until\n",
      "D:\\WindowsSoftware\\Anaconda\\envs\\acme\\lib\\site-packages\\ipykernel_launcher.py:19: DeprecationWarning: time.clock has been deprecated in Python 3.3 and will be removed from Python 3.8: use time.perf_counter or time.process_time instead\n",
      "D:\\WindowsSoftware\\Anaconda\\envs\\acme\\lib\\site-packages\\ipykernel_launcher.py:21: DeprecationWarning: time.clock has been deprecated in Python 3.3 and will be removed from Python 3.8: use time.perf_counter or time.process_time instead\n"
     ]
    },
    {
     "name": "stdout",
     "output_type": "stream",
     "text": [
      "100000  Done\t Time taken :  113.02771516199573 \t ETA :  2256.883163051453\n",
      "200000  Done\t Time taken :  8.144018633996893 \t ETA :  154.47183632070875\n",
      "300000  Done\t Time taken :  2.7359262539976044 \t ETA :  49.15780968722704\n",
      "400000  Done\t Time taken :  2.8364513929991517 \t ETA :  48.12754573974097\n",
      "500000  Done\t Time taken :  2.804409913995187 \t ETA :  44.779471389916424\n",
      "600000  Done\t Time taken :  3.614213564003876 \t ETA :  54.0958138034993\n",
      "700000  Done\t Time taken :  3.210187725999276 \t ETA :  44.83836126664941\n",
      "800000  Done\t Time taken :  2.3397325670011924 \t ETA :  30.340528857239303\n",
      "900000  Done\t Time taken :  3.1703050320065813 \t ETA :  37.940688876639406\n",
      "1000000  Done\t Time taken :  2.825666939999792 \t ETA :  30.990558677786517\n",
      "1100000  Done\t Time taken :  2.7382506389985792 \t ETA :  27.29356800923112\n",
      "1200000  Done\t Time taken :  2.4549168910016306 \t ETA :  22.014516318394943\n",
      "1300000  Done\t Time taken :  1.800095678998332 \t ETA :  14.342298324332791\n",
      "1400000  Done\t Time taken :  0.913823296999908 \t ETA :  6.3670820983128\n",
      "1500000  Done\t Time taken :  1.003064065000217 \t ETA :  5.985804869170095\n",
      "1600000  Done\t Time taken :  0.8890094629969099 \t ETA :  4.41617228762641\n",
      "1700000  Done\t Time taken :  0.9814675949965022 \t ETA :  3.8939923125005222\n",
      "1800000  Done\t Time taken :  1.1289765830006218 \t ETA :  3.350260589586005\n",
      "1900000  Done\t Time taken :  1.0291801749990555 \t ETA :  2.0249325779141416\n",
      "2000000  Done\t Time taken :  1.0880370419981773 \t ETA :  1.0526975988740765\n",
      "2100000  Done\t Time taken :  0.9575988450014847 \t ETA :  -0.031102810485648225\n",
      "2200000  Done\t Time taken :  0.9837798980006482 \t ETA :  -1.0157330690877093\n",
      "2300000  Done\t Time taken :  0.8996806419963832 \t ETA :  -1.828582911244809\n",
      "2400000  Done\t Time taken :  1.0372973999983515 \t ETA :  -3.145583619547001\n",
      "2500000  Done\t Time taken :  0.9646807449971675 \t ETA :  -3.8900558105861776\n",
      "2600000  Done\t Time taken :  0.933630413004721 \t ETA :  -4.698476380837998\n",
      "2700000  Done\t Time taken :  0.9664032669970766 \t ETA :  -5.829808380094524\n",
      "2800000  Done\t Time taken :  1.1412974119957653 \t ETA :  -8.02615122391198\n",
      "2900000  Done\t Time taken :  0.9601554420005414 \t ETA :  -7.712429384760508\n",
      "3000000  Done\t Time taken :  1.169859487003123 \t ETA :  -10.566732419165968\n",
      "3100000  Done\t Time taken :  1.0108210789985606 \t ETA :  -10.141042258631478\n",
      "3200000  Done\t Time taken :  0.9293494070007 \t ETA :  -10.253028745747082\n",
      "3300000  Done\t Time taken :  1.1416017410010681 \t ETA :  -13.736300116560532\n",
      "3400000  Done\t Time taken :  0.9619651850007358 \t ETA :  -12.536792034218388\n",
      "3500000  Done\t Time taken :  1.0140743119991384 \t ETA :  -14.22997750164167\n",
      "3600000  Done\t Time taken :  0.9161035060024005 \t ETA :  -13.771307631910966\n",
      "3700000  Done\t Time taken :  1.0480739240010735 \t ETA :  -16.80322422506873\n",
      "3800000  Done\t Time taken :  0.9275381520055817 \t ETA :  -15.798275023272028\n",
      "3900000  Done\t Time taken :  0.974294697996811 \t ETA :  -17.568949655733533\n",
      "4000000  Done\t Time taken :  1.1393777929988573 \t ETA :  -21.68518505769489\n",
      "4100000  Done\t Time taken :  1.0410282730008475 \t ETA :  -20.854378058324016\n",
      "4200000  Done\t Time taken :  1.000478394998936 \t ETA :  -21.04254183324722\n",
      "4300000  Done\t Time taken :  0.9691584710017196 \t ETA :  -21.352964629175965\n",
      "4400000  Done\t Time taken :  1.1357575510046445 \t ETA :  -26.159313078363454\n",
      "4500000  Done\t Time taken :  1.0976192789967172 \t ETA :  -26.378513370103025\n",
      "4600000  Done\t Time taken :  0.9436430929999915 \t ETA :  -23.621726852660426\n",
      "4700000  Done\t Time taken :  0.9696361109963618 \t ETA :  -25.242032666790568\n",
      "4800000  Done\t Time taken :  1.147461412998382 \t ETA :  -31.0187276976505\n",
      "4900000  Done\t Time taken :  1.7126846649989602 \t ETA :  -48.01079861789005\n",
      "5000000  Done\t Time taken :  1.0043603000012808 \t ETA :  -29.159070322581186\n",
      "5100000  Done\t Time taken :  1.1507905399994343 \t ETA :  -34.56109387672221\n",
      "5200000  Done\t Time taken :  0.970147731997713 \t ETA :  -30.106090090264388\n",
      "5241880  Done\t Time taken :  0.4746545329981018 \t ETA :  -14.92849262059254\n",
      "--- 192.5962025980043 seconds ---\n"
     ]
    },
    {
     "name": "stderr",
     "output_type": "stream",
     "text": [
      "D:\\WindowsSoftware\\Anaconda\\envs\\acme\\lib\\site-packages\\ipykernel_launcher.py:24: DeprecationWarning: time.clock has been deprecated in Python 3.3 and will be removed from Python 3.8: use time.perf_counter or time.process_time instead\n"
     ]
    }
   ],
   "source": [
    "fraction = 0.1\n",
    "start_time = time.clock()\n",
    "curr_time = time.clock()\n",
    "\n",
    "total_rows = 2096752 #approximately, if 4 answers for every question\n",
    "chunk_size = 100000\n",
    "tsv_path = \"../res/trimmed_data.tsv\"\n",
    "subset = \"../res/trimmed_subset.tsv\"\n",
    "header_names = [\"question\",\"answer\",\"label\"]\n",
    "file_read = 0\n",
    "\n",
    "for chunk in pd.read_csv(tsv_path,sep='\\t',chunksize=chunk_size, header=None, names=header_names, encoding='utf8'):\n",
    "    file_read += chunk.shape[0]\n",
    "    new_chunk = chunk.sample(frac=fraction).reset_index(drop=True)\n",
    "    \n",
    "    with open(subset, 'a') as f:\n",
    "            new_chunk.to_csv(f, sep='\\t', encoding='utf-8', index=False, header = False)\n",
    "    \n",
    "    time_taken = time.clock() - curr_time\n",
    "    print(file_read,\" Done\\t Time taken : \",(time_taken), \"\\t ETA : \", (((total_rows-file_read)/chunk_size)*time_taken))\n",
    "    curr_time = time.clock()\n",
    "    \n",
    "    \n",
    "print(\"--- %s seconds ---\" % (time.clock() - start_time))"
   ]
  },
  {
   "cell_type": "code",
   "execution_count": 10,
   "metadata": {},
   "outputs": [],
   "source": [
    "def get_imbalance_report(df):\n",
    "    true_count = (df['label'] == 1).sum()\n",
    "    false_count = (df['label'] == 0).sum()\n",
    "    \n",
    "    print(df.label.unique())\n",
    "    #print(df['label'])\n",
    "    \n",
    "    total_count = true_count+false_count\n",
    "    print(\"true : \", (true_count/total_count))\n",
    "    print(\"false : \", (false_count/total_count))\n",
    "    #print(\"label : \", (label_count))"
   ]
  },
  {
   "cell_type": "code",
   "execution_count": 11,
   "metadata": {},
   "outputs": [
    {
     "name": "stderr",
     "output_type": "stream",
     "text": [
      "D:\\WindowsSoftware\\Anaconda\\envs\\acme\\lib\\site-packages\\ipykernel_launcher.py:1: DeprecationWarning: time.clock has been deprecated in Python 3.3 and will be removed from Python 3.8: use time.perf_counter or time.process_time instead\n",
      "  \"\"\"Entry point for launching an IPython kernel.\n",
      "D:\\WindowsSoftware\\Anaconda\\envs\\acme\\lib\\site-packages\\ipykernel_launcher.py:2: DeprecationWarning: time.clock has been deprecated in Python 3.3 and will be removed from Python 3.8: use time.perf_counter or time.process_time instead\n",
      "  \n"
     ]
    },
    {
     "name": "stdout",
     "output_type": "stream",
     "text": [
      "[0 1]\n",
      "true :  0.10123\n",
      "false :  0.89877\n"
     ]
    },
    {
     "name": "stderr",
     "output_type": "stream",
     "text": [
      "D:\\WindowsSoftware\\Anaconda\\envs\\acme\\lib\\site-packages\\ipykernel_launcher.py:36: DeprecationWarning: time.clock has been deprecated in Python 3.3 and will be removed from Python 3.8: use time.perf_counter or time.process_time instead\n",
      "D:\\WindowsSoftware\\Anaconda\\envs\\acme\\lib\\site-packages\\ipykernel_launcher.py:38: DeprecationWarning: time.clock has been deprecated in Python 3.3 and will be removed from Python 3.8: use time.perf_counter or time.process_time instead\n"
     ]
    },
    {
     "name": "stdout",
     "output_type": "stream",
     "text": [
      "100000  Done\t Time taken :  15.586282047996065 \t ETA :  311.21939851900237\n",
      "[0 1]\n",
      "true :  0.0996\n",
      "false :  0.9004\n",
      "200000  Done\t Time taken :  22.169585363997612 \t ETA :  420.502053783332\n",
      "[1 0]\n",
      "true :  0.10081\n",
      "false :  0.89919\n",
      "300000  Done\t Time taken :  2.35293127100158 \t ETA :  42.27633967034631\n",
      "[0 1]\n",
      "true :  0.10006\n",
      "false :  0.89994\n",
      "400000  Done\t Time taken :  2.7439966590027325 \t ETA :  46.55881819156205\n",
      "[0 1]\n",
      "true :  0.10123\n",
      "false :  0.89877\n",
      "500000  Done\t Time taken :  3.0017013769975165 \t ETA :  47.92972677123539\n",
      "[1 0]\n",
      "true :  0.10042169670911195\n",
      "false :  0.8995783032908881\n",
      "524188  Done\t Time taken :  0.9700805230022524 \t ETA :  15.255137075745141\n",
      "--- 46.82690729100432 seconds ---\n"
     ]
    },
    {
     "name": "stderr",
     "output_type": "stream",
     "text": [
      "D:\\WindowsSoftware\\Anaconda\\envs\\acme\\lib\\site-packages\\ipykernel_launcher.py:41: DeprecationWarning: time.clock has been deprecated in Python 3.3 and will be removed from Python 3.8: use time.perf_counter or time.process_time instead\n"
     ]
    }
   ],
   "source": [
    "start_time = time.clock()\n",
    "curr_time = time.clock()\n",
    "\n",
    "test_frac = 0.2 # out of total\n",
    "valid_frac = 0.25 #out of test, i.e. 1- test\n",
    "\n",
    "total_rows = 2096752 #approximately, if 4 answers for every question\n",
    "chunk_size = 100000\n",
    "#subset = \"../res/datasubset.tsv\"\n",
    "subset = \"../res/trimmed_subset.tsv\"\n",
    "\n",
    "train_set = \"../res/train_set.tsv\"\n",
    "test_set = \"../res/test_set.tsv\"\n",
    "valid_set = \"../res/valid_set.tsv\"\n",
    "\n",
    "\n",
    "header_names = [\"question\",\"answer\",\"label\"]\n",
    "file_read = 0\n",
    "\n",
    "for chunk in pd.read_csv(subset, sep='\\t', chunksize=chunk_size, header=None, names=header_names, encoding='utf8'):\n",
    "    file_read += chunk.shape[0]\n",
    "    get_imbalance_report(chunk)\n",
    "    train_chunk, test_chunk = train_test_split(chunk, test_size=test_frac)\n",
    "    \n",
    "    train_chunk, valid_chunk = train_test_split(train_chunk, test_size=valid_frac)\n",
    "    \n",
    "    with open(train_set, 'a') as f:\n",
    "            train_chunk.to_csv(f, sep='\\t', encoding='utf-8', index=False, header = False)\n",
    "    \n",
    "    with open(test_set, 'a') as f:\n",
    "            test_chunk.to_csv(f, sep='\\t', encoding='utf-8', index=False, header = False)\n",
    "            \n",
    "    with open(valid_set, 'a') as f:\n",
    "            valid_chunk.to_csv(f, sep='\\t', encoding='utf-8', index=False, header = False)\n",
    "    \n",
    "    time_taken = time.clock() - curr_time\n",
    "    print(file_read,\" Done\\t Time taken : \",(time_taken), \"\\t ETA : \", (((total_rows-file_read)/chunk_size)*time_taken))\n",
    "    curr_time = time.clock()\n",
    "    \n",
    "    \n",
    "print(\"--- %s seconds ---\" % (time.clock() - start_time))"
   ]
  },
  {
   "cell_type": "code",
   "execution_count": 12,
   "metadata": {
    "scrolled": true
   },
   "outputs": [
    {
     "name": "stdout",
     "output_type": "stream",
     "text": [
      "\n",
      "\n",
      "\n",
      "Train Chunk\n",
      "\n"
     ]
    },
    {
     "name": "stderr",
     "output_type": "stream",
     "text": [
      "D:\\WindowsSoftware\\Anaconda\\envs\\acme\\lib\\site-packages\\ipykernel_launcher.py:1: DeprecationWarning: time.clock has been deprecated in Python 3.3 and will be removed from Python 3.8: use time.perf_counter or time.process_time instead\n",
      "  \"\"\"Entry point for launching an IPython kernel.\n",
      "D:\\WindowsSoftware\\Anaconda\\envs\\acme\\lib\\site-packages\\ipykernel_launcher.py:2: DeprecationWarning: time.clock has been deprecated in Python 3.3 and will be removed from Python 3.8: use time.perf_counter or time.process_time instead\n",
      "  \n"
     ]
    },
    {
     "name": "stdout",
     "output_type": "stream",
     "text": [
      "[1 0]\n",
      "true :  0.10084511878720048\n",
      "false :  0.8991548812127995\n",
      "\n",
      "\n",
      "\n",
      "Test Chunk\n",
      "\n",
      "[0 1]\n",
      "true :  0.10060283484995898\n",
      "false :  0.899397165150041\n",
      "\n",
      "\n",
      "\n",
      "Valid Chunk\n",
      "\n",
      "[0 1]\n",
      "true :  0.0997539060264408\n",
      "false :  0.9002460939735593\n"
     ]
    }
   ],
   "source": [
    "start_time = time.clock()\n",
    "curr_time = time.clock()\n",
    "\n",
    "test_frac = 0.2 # out of total\n",
    "valid_frac = 0.25 #out of test, i.e. 1- test\n",
    "\n",
    "total_rows = 2096752 #approximately, if 4 answers for every question\n",
    "chunk_size = 100000\n",
    "subset = \"../res/datasubset.tsv\"\n",
    "\n",
    "train_set = \"../res/train_set.tsv\"\n",
    "test_set = \"../res/test_set.tsv\"\n",
    "valid_set = \"../res/valid_set.tsv\"\n",
    "\n",
    "\n",
    "header_names = [\"question\",\"answer\",\"label\"]\n",
    "file_read = 0\n",
    "\n",
    "\n",
    "\n",
    "    \n",
    "print(\"\\n\\n\\nTrain Chunk\\n\")\n",
    "train_chunk = pd.read_csv(train_set, sep='\\t', header=None, names=header_names, encoding='utf8')\n",
    "get_imbalance_report(train_chunk)\n",
    "\n",
    "print(\"\\n\\n\\nTest Chunk\\n\")\n",
    "test_chunk = pd.read_csv(test_set, sep='\\t', header=None, names=header_names, encoding='utf8')\n",
    "get_imbalance_report(test_chunk)\n",
    "\n",
    "print(\"\\n\\n\\nValid Chunk\\n\")\n",
    "valid_chunk = pd.read_csv(valid_set, sep='\\t', header=None, names=header_names, encoding='utf8')\n",
    "get_imbalance_report(valid_chunk)"
   ]
  },
  {
   "cell_type": "code",
   "execution_count": null,
   "metadata": {},
   "outputs": [],
   "source": []
  }
 ],
 "metadata": {
  "kernelspec": {
   "display_name": "Python 3",
   "language": "python",
   "name": "python3"
  },
  "language_info": {
   "codemirror_mode": {
    "name": "ipython",
    "version": 3
   },
   "file_extension": ".py",
   "mimetype": "text/x-python",
   "name": "python",
   "nbconvert_exporter": "python",
   "pygments_lexer": "ipython3",
   "version": "3.7.1"
  }
 },
 "nbformat": 4,
 "nbformat_minor": 1
}
