{
 "cells": [
  {
   "cell_type": "code",
   "execution_count": 81,
   "metadata": {},
   "outputs": [],
   "source": [
    "\n",
    "import sys\n",
    "import os\n",
    "import io\n",
    "import time\n",
    "import string\n",
    "import numpy as np\n",
    "import pandas as pd\n",
    "import pickle\n",
    "import re\n",
    "from collections import defaultdict\n",
    "import random\n",
    "import random\n",
    "import csv\n",
    "import sqlite3 as lite\n",
    "import matplotlib.pyplot as plt\n",
    "\n",
    "import torch\n",
    "from torch.utils.data import Dataset, DataLoader\n",
    "from torchvision import datasets, transforms\n",
    "from torch.utils.data.sampler import SubsetRandomSampler\n",
    "from collections import defaultdict\n",
    "from IPython.display import clear_output\n"
   ]
  },
  {
   "cell_type": "code",
   "execution_count": 58,
   "metadata": {},
   "outputs": [
    {
     "name": "stdout",
     "output_type": "stream",
     "text": [
      "CUDA is available!  Training on GPU ...\n"
     ]
    }
   ],
   "source": [
    "train_on_gpu = torch.cuda.is_available()\n",
    "\n",
    "if not train_on_gpu:\n",
    "    print('CUDA is not available.  Training on CPU ...')\n",
    "else:\n",
    "    print('CUDA is available!  Training on GPU ...')\n",
    "    \n",
    "train_set = \"../res/train_set.tsv\"\n",
    "test_set = \"../res/test_set.tsv\"\n",
    "valid_set = \"../res/valid_set.tsv\"\n",
    "ft_vec = \"../res/crawl-300d-2M-subword.vec\"\n",
    "glove50_path = \"../res/GloveDict50.pkl\"\n",
    "\n",
    "max_q_len = 10\n",
    "max_a_len = 100\n",
    "embedding_len = 50\n",
    "pad_char = '_'\n",
    "\n",
    "header_names = [\"question\",\"answer\",\"label\"]\n",
    "\n",
    "translator = str.maketrans('', '', string.punctuation)"
   ]
  },
  {
   "cell_type": "code",
   "execution_count": 31,
   "metadata": {},
   "outputs": [],
   "source": [
    "# def load_vectors(fname):\n",
    "#     fin = io.open(fname, 'r', encoding='utf-8', newline='\\n', errors='ignore')\n",
    "#     n, d = map(int, fin.readline().split())\n",
    "#     data = {}\n",
    "#     for line in fin:\n",
    "#         tokens = line.rstrip().split(' ')\n",
    "#         data[tokens[0]] = map(float, tokens[1:])\n",
    "#     return data"
   ]
  },
  {
   "cell_type": "code",
   "execution_count": 7,
   "metadata": {},
   "outputs": [],
   "source": [
    "def load_glove_vectors(fname):\n",
    "    pickle_in = open(fname,\"rb\")\n",
    "    _dict = pickle.load(pickle_in)\n",
    "    return _dict"
   ]
  },
  {
   "cell_type": "code",
   "execution_count": 7,
   "metadata": {},
   "outputs": [],
   "source": [
    "# read a val\n",
    "# embeddings. \n",
    "\n",
    "# class CustomDatasetFromCSV(Dataset):\n",
    "#     def __init__(self, csv_path, transform=None):\n",
    "#         _dataset = pd.read_csv(csv_path, sep='\\t', header=None, names=header_names, encoding='utf8')\n",
    "#         self.labels = _dataset['label']\n",
    "#         self.questions = _dataset['question']\n",
    "#         self.answers = _dataset['answer']\n",
    "\n",
    "#     def __getitem__(self, index):\n",
    "#         q = self.questions.iloc[index]\n",
    "#         a = self.answers.iloc[index]\n",
    "#         q = q.lower()\n",
    "#         a = a.lower()\n",
    "#         x = [q,a]\n",
    "#         y = self.labels.iloc[index]\n",
    "#         return x, y\n",
    "    \n",
    "#     def __len__(self):\n",
    "#         return len(self.labels)"
   ]
  },
  {
   "cell_type": "code",
   "execution_count": null,
   "metadata": {},
   "outputs": [],
   "source": [
    "#ft_dict = load_vectors(ft_vec)"
   ]
  },
  {
   "cell_type": "code",
   "execution_count": 11,
   "metadata": {},
   "outputs": [
    {
     "name": "stdout",
     "output_type": "stream",
     "text": [
      "['the', ',', '.', 'of', 'to', 'and', 'in', 'a', '\"', \"'s\", 'for', '-', 'that', 'on', 'is', 'was', 'said', 'with', 'he', 'as', 'it', 'by', 'at', '(', ')', 'from', 'his', \"''\", '``', 'an', 'be', 'has', 'are', 'have', 'but', 'were', 'not', 'this', 'who', 'they', 'had', 'i', 'which', 'will', 'their', ':', 'or', 'its', 'one', 'after', 'new', 'been', 'also', 'we', 'would', 'two', 'more', \"'\", 'first', 'about', 'up', 'when', 'year', 'there', 'all', '--', 'out', 'she', 'other', 'people', \"n't\", 'her', 'percent', 'than', 'over', 'into', 'last', 'some', 'government', 'time', '$', 'you', 'years', 'if', 'no', 'world', 'can', 'three', 'do', ';', 'president', 'only', 'state', 'million', 'could', 'us', 'most', '_', 'against', 'u.s.']\n"
     ]
    }
   ],
   "source": [
    "glove50 = load_glove_vectors(glove50_path)\n",
    "supported_words = list(glove50.keys())\n",
    "print(supported_words[:100])"
   ]
  },
  {
   "cell_type": "code",
   "execution_count": 17,
   "metadata": {},
   "outputs": [],
   "source": [
    "default_val = np.zeros(embedding_len)\n",
    "glove = defaultdict(lambda: default_val,glove50)"
   ]
  },
  {
   "cell_type": "code",
   "execution_count": 77,
   "metadata": {},
   "outputs": [],
   "source": [
    "class CustomDatasetFromCSV(Dataset):\n",
    "    def __init__(self, csv_path, transform=None):\n",
    "        _dataset = pd.read_csv(csv_path, sep='\\t', header=None, names=header_names, encoding='utf8')\n",
    "        self.labels = _dataset['label']\n",
    "        self.questions = _dataset['question']\n",
    "        self.answers = _dataset['answer']\n",
    "\n",
    "    def __getitem__(self, index):\n",
    "        q = self.questions.iloc[index]\n",
    "        a = self.answers.iloc[index]\n",
    "        q = q.lower()\n",
    "        a = a.lower()\n",
    "        q = q.translate(translator)\n",
    "        a = a.translate(translator)\n",
    "        \n",
    "        tokens = set((q+\" \"+a).split(\" \"))\n",
    "        unique_vals = [x for x in tokens if x not in supported_words]      \n",
    "        \n",
    "        \n",
    "        q_list = np.zeros((max_q_len, (embedding_len+1)))\n",
    "        a_list = np.zeros((max_a_len, (embedding_len+1)))\n",
    "        \n",
    "        \n",
    "        q_words = q.split(\" \")        \n",
    "        if len(q_words) > max_q_len:\n",
    "            q_words = q_words[:max_q_len]\n",
    "        else:\n",
    "            q_words = [pad_char]*(max_q_len - len(q_words) ) + q_words\n",
    "            \n",
    "        a_words = a.split(\" \")\n",
    "        if len(a_words) > max_a_len:\n",
    "            a_words = a_words[:max_a_len]\n",
    "        else:\n",
    "            a_words = [pad_char]*(max_a_len - len(a_words) ) + a_words\n",
    "        \n",
    "        \n",
    "        \n",
    "        for i, word in enumerate(q_words):\n",
    "            q_val = glove[word]\n",
    "            if word not in unique_vals:\n",
    "                q_val = np.append(q_val, 0)\n",
    "            else:\n",
    "                q_val = np.append(q_val, unique_vals.index(word))            \n",
    "            q_list[i] = q_val\n",
    "        \n",
    "            \n",
    "        for i, word in enumerate(a_words):\n",
    "            a_val = glove[word]\n",
    "            if word not in unique_vals:\n",
    "                a_val = np.append(a_val, 0)\n",
    "            else:\n",
    "                a_val = np.append(a_val, unique_vals.index(word))            \n",
    "            a_list[i] = a_val\n",
    "        \n",
    "        \n",
    "        x = [q_list,a_list]\n",
    "        y = self.labels.iloc[index]\n",
    "        return x, y\n",
    "    def __len__(self):\n",
    "        return len(self.labels)"
   ]
  },
  {
   "cell_type": "code",
   "execution_count": 78,
   "metadata": {},
   "outputs": [],
   "source": [
    "\n",
    "# qwc = defaultdict(lambda:0)\n",
    "# awc = defaultdict(lambda:0)"
   ]
  },
  {
   "cell_type": "code",
   "execution_count": 82,
   "metadata": {},
   "outputs": [
    {
     "name": "stdout",
     "output_type": "stream",
     "text": [
      "done  4194\n",
      "--- 137.71859526200024 seconds ---\n"
     ]
    },
    {
     "name": "stderr",
     "output_type": "stream",
     "text": [
      "D:\\WindowsSoftware\\Anaconda\\envs\\acme\\lib\\site-packages\\ipykernel_launcher.py:23: DeprecationWarning: time.clock has been deprecated in Python 3.3 and will be removed from Python 3.8: use time.perf_counter or time.process_time instead\n"
     ]
    }
   ],
   "source": [
    "# apply embeddings in get data itself\n",
    "# test data loader\n",
    "\n",
    "start_time = time.clock()\n",
    "\n",
    "custom_data = CustomDatasetFromCSV(test_set)\n",
    "    # Define data loader\n",
    "dataset_loader = torch.utils.data.DataLoader(dataset=custom_data,\n",
    "                                                    batch_size=32,\n",
    "                                                    shuffle=False)\n",
    "count = 0    \n",
    "for x, y in dataset_loader:    \n",
    "    q = x[0]\n",
    "    a = x[1]    \n",
    "    l = len(y)\n",
    "    count+=l\n",
    "    clear_output(wait=True)\n",
    "    print(\"done \", count)\n",
    "\n",
    "\n",
    "\n",
    "    \n",
    "print(\"--- %s seconds ---\" % (time.clock() - start_time))\n",
    "# lstm network"
   ]
  },
  {
   "cell_type": "code",
   "execution_count": 44,
   "metadata": {},
   "outputs": [],
   "source": [
    "#print(qwc,\"\\n\\n\",awc)\n"
   ]
  },
  {
   "cell_type": "code",
   "execution_count": 27,
   "metadata": {},
   "outputs": [
    {
     "data": {
      "image/png": "[encoded data removed]",
      "text/plain": [
       "<Figure size 432x288 with 1 Axes>"
      ]
     },
     "metadata": {
      "needs_background": "light"
     },
     "output_type": "display_data"
    }
   ],
   "source": [
    "#plt.bar(list(qwc.keys()), qwc.values(), color='g')\n",
    "#plt.show()"
   ]
  },
  {
   "cell_type": "code",
   "execution_count": 28,
   "metadata": {},
   "outputs": [
    {
     "data": {
      "image/png": "[encoded data removed]",
      "text/plain": [
       "<Figure size 432x288 with 1 Axes>"
      ]
     },
     "metadata": {
      "needs_background": "light"
     },
     "output_type": "display_data"
    }
   ],
   "source": [
    "#plt.bar(list(awc.keys()), awc.values(), color='g')\n",
    "#plt.show()"
   ]
  },
  {
   "cell_type": "code",
   "execution_count": null,
   "metadata": {},
   "outputs": [],
   "source": []
  }
 ],
 "metadata": {
  "kernelspec": {
   "display_name": "Python 3",
   "language": "python",
   "name": "python3"
  },
  "language_info": {
   "codemirror_mode": {
    "name": "ipython",
    "version": 3
   },
   "file_extension": ".py",
   "mimetype": "text/x-python",
   "name": "python",
   "nbconvert_exporter": "python",
   "pygments_lexer": "ipython3",
   "version": "3.7.1"
  }
 },
 "nbformat": 4,
 "nbformat_minor": 1
}
